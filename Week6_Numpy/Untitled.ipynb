{
 "cells": [
  {
   "cell_type": "code",
   "execution_count": 2,
   "id": "10ad6246-7646-49a5-8ebc-4089cfe08db4",
   "metadata": {},
   "outputs": [],
   "source": [
    "import numpy as np"
   ]
  },
  {
   "cell_type": "code",
   "execution_count": 4,
   "id": "bed9093f-c8ab-4964-94b1-ab4b96ac2540",
   "metadata": {
    "tags": []
   },
   "outputs": [],
   "source": [
    "array1 = np.arange(15,40)"
   ]
  },
  {
   "cell_type": "code",
   "execution_count": 5,
   "id": "4a22543c-2750-4028-9c53-b05f5b7e39d1",
   "metadata": {
    "tags": []
   },
   "outputs": [],
   "source": [
    "array2 = np.arange(10,25)"
   ]
  },
  {
   "cell_type": "code",
   "execution_count": 7,
   "id": "0ffb7774-457a-47a5-b6fa-43a96da87bcd",
   "metadata": {
    "tags": []
   },
   "outputs": [],
   "source": [
    "even_array1 = np.arange(2, 20)"
   ]
  },
  {
   "cell_type": "code",
   "execution_count": 8,
   "id": "7ab927f5-1ba2-43f9-afa6-5347b34d8746",
   "metadata": {
    "tags": []
   },
   "outputs": [],
   "source": [
    "even_array2 = np.arange(34,42)"
   ]
  },
  {
   "cell_type": "code",
   "execution_count": 9,
   "id": "8981e34f-36cf-4285-ab7f-d79beff07c81",
   "metadata": {
    "tags": []
   },
   "outputs": [],
   "source": [
    "diff12 = np.setdiff1d(array1,array2)"
   ]
  },
  {
   "cell_type": "code",
   "execution_count": 10,
   "id": "2814671e-3800-4bc9-a1ef-a9ca7c7235cd",
   "metadata": {
    "tags": []
   },
   "outputs": [
    {
     "data": {
      "text/plain": [
       "array([25, 26, 27, 28, 29, 30, 31, 32, 33, 34, 35, 36, 37, 38, 39])"
      ]
     },
     "execution_count": 10,
     "metadata": {},
     "output_type": "execute_result"
    }
   ],
   "source": [
    "diff12"
   ]
  },
  {
   "cell_type": "code",
   "execution_count": 13,
   "id": "41f9ddb1-d0b7-463c-81f2-0c2274704a4f",
   "metadata": {
    "tags": []
   },
   "outputs": [
    {
     "ename": "ValueError",
     "evalue": "all input arrays must have the same shape",
     "output_type": "error",
     "traceback": [
      "\u001b[0;31m---------------------------------------------------------------------------\u001b[0m",
      "\u001b[0;31mValueError\u001b[0m                                Traceback (most recent call last)",
      "Cell \u001b[0;32mIn[13], line 1\u001b[0m\n\u001b[0;32m----> 1\u001b[0m matrix1 \u001b[38;5;241m=\u001b[39m \u001b[43mnp\u001b[49m\u001b[38;5;241;43m.\u001b[39;49m\u001b[43mstack\u001b[49m\u001b[43m(\u001b[49m\u001b[43m(\u001b[49m\u001b[43meven_array1\u001b[49m\u001b[43m,\u001b[49m\u001b[43m \u001b[49m\u001b[43meven_array2\u001b[49m\u001b[43m)\u001b[49m\u001b[43m,\u001b[49m\u001b[43m \u001b[49m\u001b[43maxis\u001b[49m\u001b[38;5;241;43m=\u001b[39;49m\u001b[38;5;241;43m0\u001b[39;49m\u001b[43m)\u001b[49m\n",
      "File \u001b[0;32m<__array_function__ internals>:200\u001b[0m, in \u001b[0;36mstack\u001b[0;34m(*args, **kwargs)\u001b[0m\n",
      "File \u001b[0;32m~/anaconda3/envs/jupyterlab/lib/python3.10/site-packages/numpy/core/shape_base.py:464\u001b[0m, in \u001b[0;36mstack\u001b[0;34m(arrays, axis, out, dtype, casting)\u001b[0m\n\u001b[1;32m    462\u001b[0m shapes \u001b[38;5;241m=\u001b[39m {arr\u001b[38;5;241m.\u001b[39mshape \u001b[38;5;28;01mfor\u001b[39;00m arr \u001b[38;5;129;01min\u001b[39;00m arrays}\n\u001b[1;32m    463\u001b[0m \u001b[38;5;28;01mif\u001b[39;00m \u001b[38;5;28mlen\u001b[39m(shapes) \u001b[38;5;241m!=\u001b[39m \u001b[38;5;241m1\u001b[39m:\n\u001b[0;32m--> 464\u001b[0m     \u001b[38;5;28;01mraise\u001b[39;00m \u001b[38;5;167;01mValueError\u001b[39;00m(\u001b[38;5;124m'\u001b[39m\u001b[38;5;124mall input arrays must have the same shape\u001b[39m\u001b[38;5;124m'\u001b[39m)\n\u001b[1;32m    466\u001b[0m result_ndim \u001b[38;5;241m=\u001b[39m arrays[\u001b[38;5;241m0\u001b[39m]\u001b[38;5;241m.\u001b[39mndim \u001b[38;5;241m+\u001b[39m \u001b[38;5;241m1\u001b[39m\n\u001b[1;32m    467\u001b[0m axis \u001b[38;5;241m=\u001b[39m normalize_axis_index(axis, result_ndim)\n",
      "\u001b[0;31mValueError\u001b[0m: all input arrays must have the same shape"
     ]
    }
   ],
   "source": [
    "matrix1 = np.stack((even_array1, even_array2), axis=0)"
   ]
  },
  {
   "cell_type": "code",
   "execution_count": 14,
   "id": "0aedd033-46ef-4720-8720-6b8ae07a8e07",
   "metadata": {
    "tags": []
   },
   "outputs": [
    {
     "data": {
      "text/plain": [
       "8"
      ]
     },
     "execution_count": 14,
     "metadata": {},
     "output_type": "execute_result"
    }
   ],
   "source": [
    "len(even_array2)"
   ]
  },
  {
   "cell_type": "code",
   "execution_count": 15,
   "id": "337480b1-e1cf-4a50-b4c4-041eacf19d23",
   "metadata": {
    "tags": []
   },
   "outputs": [
    {
     "data": {
      "text/plain": [
       "18"
      ]
     },
     "execution_count": 15,
     "metadata": {},
     "output_type": "execute_result"
    }
   ],
   "source": [
    "len(even_array1)"
   ]
  },
  {
   "cell_type": "code",
   "execution_count": 16,
   "id": "63c04bb7-31ee-4a51-aafa-2787f1351636",
   "metadata": {
    "tags": []
   },
   "outputs": [
    {
     "data": {
      "text/plain": [
       "25"
      ]
     },
     "execution_count": 16,
     "metadata": {},
     "output_type": "execute_result"
    }
   ],
   "source": [
    "len(array1)"
   ]
  },
  {
   "cell_type": "code",
   "execution_count": 17,
   "id": "66d9b57a-5cf6-4a78-9342-042fc5a5b59d",
   "metadata": {
    "tags": []
   },
   "outputs": [
    {
     "data": {
      "text/plain": [
       "15"
      ]
     },
     "execution_count": 17,
     "metadata": {},
     "output_type": "execute_result"
    }
   ],
   "source": [
    "len(array2)"
   ]
  },
  {
   "cell_type": "code",
   "execution_count": 18,
   "id": "3bc2b3f0-7595-4f05-8406-291e15e1a88c",
   "metadata": {
    "tags": []
   },
   "outputs": [],
   "source": [
    "matrix = np.arange(0,36)"
   ]
  },
  {
   "cell_type": "code",
   "execution_count": 19,
   "id": "dda06062-e06f-4dad-b298-4ee847263b3a",
   "metadata": {
    "tags": []
   },
   "outputs": [],
   "source": [
    "reshape_matrix = matrix.reshape(6,6)"
   ]
  },
  {
   "cell_type": "code",
   "execution_count": 20,
   "id": "c7c6816e-59af-4300-827d-7a806223c49a",
   "metadata": {
    "tags": []
   },
   "outputs": [
    {
     "name": "stdout",
     "output_type": "stream",
     "text": [
      "[[ 0  1  2  3  4  5]\n",
      " [ 6  7  8  9 10 11]\n",
      " [12 13 14 15 16 17]\n",
      " [18 19 20 21 22 23]\n",
      " [24 25 26 27 28 29]\n",
      " [30 31 32 33 34 35]]\n"
     ]
    }
   ],
   "source": [
    "print(reshape_matrix)"
   ]
  },
  {
   "cell_type": "code",
   "execution_count": 22,
   "id": "a6feadb7-1f8f-453c-9279-5570d5b0556b",
   "metadata": {
    "tags": []
   },
   "outputs": [
    {
     "name": "stdout",
     "output_type": "stream",
     "text": [
      "[[ 1.49252466 -1.74765398]\n",
      " [ 0.75974504  1.7286636 ]\n",
      " [ 1.6908731  -0.34546145]\n",
      " [ 0.64076245  0.38720126]\n",
      " [-1.75820119 -0.48297975]]\n"
     ]
    }
   ],
   "source": [
    "#create a 5x2 matric from standard normal distribution generated with python\n",
    "\n",
    "nd = np.random.randn(5,2)\n",
    "print(nd)"
   ]
  },
  {
   "cell_type": "code",
   "execution_count": 23,
   "id": "be16e594-0f1f-486a-adf5-ee62529d5452",
   "metadata": {
    "tags": []
   },
   "outputs": [],
   "source": [
    "#value intersecting the last row and the last column of yout matrix\n",
    "value_inter = nd[4:,1:]"
   ]
  },
  {
   "cell_type": "code",
   "execution_count": 24,
   "id": "0f732ca6-1f08-459c-89d5-a0a08ff1a2d3",
   "metadata": {
    "tags": []
   },
   "outputs": [
    {
     "name": "stdout",
     "output_type": "stream",
     "text": [
      "[[ 1.49252466 -1.74765398]\n",
      " [ 0.75974504  1.7286636 ]\n",
      " [ 1.6908731  -0.34546145]\n",
      " [ 0.64076245  0.38720126]\n",
      " [-1.75820119 -0.48297975]]\n"
     ]
    }
   ],
   "source": [
    "print(nd)"
   ]
  },
  {
   "cell_type": "code",
   "execution_count": 25,
   "id": "db235add-6f5d-4886-b36f-79b8daebac4e",
   "metadata": {
    "tags": []
   },
   "outputs": [
    {
     "name": "stdout",
     "output_type": "stream",
     "text": [
      "[[-0.48297975]]\n"
     ]
    }
   ],
   "source": [
    "print(value_inter)"
   ]
  },
  {
   "cell_type": "code",
   "execution_count": 26,
   "id": "3e2af95b-95cd-4793-a537-20cceb571f82",
   "metadata": {
    "tags": []
   },
   "outputs": [
    {
     "data": {
      "text/plain": [
       "-1.7582011891572429"
      ]
     },
     "execution_count": 26,
     "metadata": {},
     "output_type": "execute_result"
    }
   ],
   "source": [
    "np.min(nd)"
   ]
  },
  {
   "cell_type": "code",
   "execution_count": 27,
   "id": "b64f938f-9302-4f61-b2eb-a737c9fd2ac4",
   "metadata": {
    "tags": []
   },
   "outputs": [
    {
     "data": {
      "text/plain": [
       "1.728663601208787"
      ]
     },
     "execution_count": 27,
     "metadata": {},
     "output_type": "execute_result"
    }
   ],
   "source": [
    "np.max(nd)"
   ]
  },
  {
   "cell_type": "code",
   "execution_count": 28,
   "id": "2a303ca6-cfb1-4aa9-83d7-5f792e008095",
   "metadata": {
    "tags": []
   },
   "outputs": [
    {
     "data": {
      "text/plain": [
       "1.23090640352483"
      ]
     },
     "execution_count": 28,
     "metadata": {},
     "output_type": "execute_result"
    }
   ],
   "source": [
    "np.std(nd)"
   ]
  },
  {
   "cell_type": "code",
   "execution_count": 29,
   "id": "f04df1f8-dd82-49df-bfc0-f4203e19ad52",
   "metadata": {
    "tags": []
   },
   "outputs": [
    {
     "data": {
      "text/plain": [
       "1.5151305742384316"
      ]
     },
     "execution_count": 29,
     "metadata": {},
     "output_type": "execute_result"
    }
   ],
   "source": [
    "np.var(nd)"
   ]
  },
  {
   "cell_type": "code",
   "execution_count": 30,
   "id": "6783aa88-99fa-4dd7-a3ff-1a74f341cced",
   "metadata": {
    "tags": []
   },
   "outputs": [
    {
     "data": {
      "text/plain": [
       "0.2365473746099523"
      ]
     },
     "execution_count": 30,
     "metadata": {},
     "output_type": "execute_result"
    }
   ],
   "source": [
    "np.mean(nd)"
   ]
  },
  {
   "cell_type": "code",
   "execution_count": null,
   "id": "0568d3a6-fb28-4035-909e-fdd5fc1a797a",
   "metadata": {},
   "outputs": [],
   "source": []
  }
 ],
 "metadata": {
  "kernelspec": {
   "display_name": "Python 3 (ipykernel)",
   "language": "python",
   "name": "python3"
  },
  "language_info": {
   "codemirror_mode": {
    "name": "ipython",
    "version": 3
   },
   "file_extension": ".py",
   "mimetype": "text/x-python",
   "name": "python",
   "nbconvert_exporter": "python",
   "pygments_lexer": "ipython3",
   "version": "3.10.9"
  }
 },
 "nbformat": 4,
 "nbformat_minor": 5
}
