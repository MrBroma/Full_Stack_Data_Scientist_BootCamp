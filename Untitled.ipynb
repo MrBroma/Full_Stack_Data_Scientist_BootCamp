{
 "cells": [
  {
   "cell_type": "code",
   "execution_count": 5,
   "id": "de782c97-f1b1-4491-ab3a-95b178879546",
   "metadata": {
    "tags": []
   },
   "outputs": [],
   "source": [
    "mult = []\n",
    "for x in range (8):\n",
    "    mult.append(x**2)\n",
    "    "
   ]
  },
  {
   "cell_type": "code",
   "execution_count": 6,
   "id": "2a98f2d5-8551-4681-beab-620ba05a8002",
   "metadata": {
    "tags": []
   },
   "outputs": [
    {
     "data": {
      "text/plain": [
       "[0, 1, 4, 9, 16, 25, 36, 49]"
      ]
     },
     "execution_count": 6,
     "metadata": {},
     "output_type": "execute_result"
    }
   ],
   "source": [
    "mult"
   ]
  },
  {
   "cell_type": "code",
   "execution_count": null,
   "id": "0c05b67f-f726-4155-acb8-fa2cd313fbb7",
   "metadata": {},
   "outputs": [],
   "source": []
  }
 ],
 "metadata": {
  "kernelspec": {
   "display_name": "Python 3 (ipykernel)",
   "language": "python",
   "name": "python3"
  },
  "language_info": {
   "codemirror_mode": {
    "name": "ipython",
    "version": 3
   },
   "file_extension": ".py",
   "mimetype": "text/x-python",
   "name": "python",
   "nbconvert_exporter": "python",
   "pygments_lexer": "ipython3",
   "version": "3.10.9"
  }
 },
 "nbformat": 4,
 "nbformat_minor": 5
}
