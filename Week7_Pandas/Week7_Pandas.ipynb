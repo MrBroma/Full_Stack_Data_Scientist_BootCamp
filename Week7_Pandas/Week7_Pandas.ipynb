{
 "cells": [
  {
   "cell_type": "markdown",
   "id": "5ceb687c-121b-4cb6-a2d6-f1b7c6252b51",
   "metadata": {},
   "source": [
    "## PYTHON FOR DATA SCIENCE"
   ]
  },
  {
   "cell_type": "markdown",
   "id": "5a52d324-8b73-4309-a9bb-91fa917bd638",
   "metadata": {
    "tags": []
   },
   "source": [
    "### **Pandas**"
   ]
  },
  {
   "cell_type": "markdown",
   "id": "6d945d05-7fae-4cf7-8552-c0ffa2f0d31a",
   "metadata": {},
   "source": [
    "One-dimensional ndarray with axis labels (including time series).\n",
    "\n",
    "The object supports both integer- and label-based indexing and provides a host of methods for performing operations involving the index. If there are no matching labels during alignment, pandas returns **NaN (not any number)** so that the operation does not fail.\n",
    "\n",
    "The name is derived from the term \"panel data\", an econometrics term for data sets that include observations over multiple time periods for the same individuals.\n",
    "\n",
    "Read Pandas documentations: https://pandas.pydata.org/pandas-docs/stable/reference/api/pandas.Series.html"
   ]
  },
  {
   "cell_type": "markdown",
   "id": "0b08cc34-570c-4b7c-8953-eb1cc523b2b1",
   "metadata": {},
   "source": [
    "### Import Library"
   ]
  },
  {
   "cell_type": "code",
   "execution_count": 3,
   "id": "dbfd366b-70a9-40f6-bf76-55f7152132f0",
   "metadata": {
    "tags": []
   },
   "outputs": [],
   "source": [
    "import pandas as pd\n",
    "import numpy as np"
   ]
  },
  {
   "cell_type": "markdown",
   "id": "846110df-1075-43f7-9946-0301badd8b1f",
   "metadata": {},
   "source": [
    "**Series** is a one-dimensional labeled array capable of holding data of any type (integer, string, float, python objects, etc.)\n",
    "\n",
    "**Dataframe** is a two-dimensional labeled array capable of holding data of any type (integer, string, float, python objects, etc.)\n",
    "\n",
    "You can see it as Series being a one-dimensional labeled array while DataFrame is a group of series"
   ]
  },
  {
   "cell_type": "code",
   "execution_count": 4,
   "id": "ebdd6ca4-3785-4b9e-aae6-ae3f1839fc89",
   "metadata": {
    "tags": []
   },
   "outputs": [
    {
     "data": {
      "text/plain": [
       "['Lion', 'Cat', 'Birds', 'Fish']"
      ]
     },
     "execution_count": 4,
     "metadata": {},
     "output_type": "execute_result"
    }
   ],
   "source": [
    "my_pets = ['Lion', 'Cat', 'Birds', 'Fish']\n",
    "my_pets"
   ]
  },
  {
   "cell_type": "code",
   "execution_count": 6,
   "id": "9e60874e-dac4-4e7c-b694-8dc1ce54679d",
   "metadata": {
    "tags": []
   },
   "outputs": [
    {
     "data": {
      "text/plain": [
       "list"
      ]
     },
     "execution_count": 6,
     "metadata": {},
     "output_type": "execute_result"
    }
   ],
   "source": [
    "type(my_pets)"
   ]
  },
  {
   "cell_type": "code",
   "execution_count": 12,
   "id": "38b8e59e-983e-47c2-8951-1311a1f92fd1",
   "metadata": {
    "tags": []
   },
   "outputs": [
    {
     "data": {
      "text/plain": [
       "0     Lion\n",
       "1      Cat\n",
       "2    Birds\n",
       "3     Fish\n",
       "dtype: object"
      ]
     },
     "execution_count": 12,
     "metadata": {},
     "output_type": "execute_result"
    }
   ],
   "source": [
    "#Converting our list to series objects with indexes\n",
    "pd.Series(my_pets)"
   ]
  },
  {
   "cell_type": "markdown",
   "id": "e8f08ec8-f2fe-4ba3-8970-ef29d8a62c3a",
   "metadata": {},
   "source": [
    "**We can create our own index**"
   ]
  },
  {
   "cell_type": "code",
   "execution_count": 13,
   "id": "874c8aeb-9dfb-45d0-a55b-c31c65b588eb",
   "metadata": {
    "tags": []
   },
   "outputs": [],
   "source": [
    "my_days=['Monday','Tuesday','Wednesday','Thursday','Friday']"
   ]
  },
  {
   "cell_type": "code",
   "execution_count": 14,
   "id": "8d48a922-1049-45cc-b581-eca56683bc59",
   "metadata": {
    "tags": []
   },
   "outputs": [],
   "source": [
    "my_courses=['Economics','Geograghy','Finance','Mathematics','History']"
   ]
  },
  {
   "cell_type": "code",
   "execution_count": 15,
   "id": "82c91895-19ca-4067-9c59-7aee81df6820",
   "metadata": {
    "tags": []
   },
   "outputs": [
    {
     "data": {
      "text/plain": [
       "5"
      ]
     },
     "execution_count": 15,
     "metadata": {},
     "output_type": "execute_result"
    }
   ],
   "source": [
    "len(my_days)"
   ]
  },
  {
   "cell_type": "code",
   "execution_count": 16,
   "id": "d3558d73-1c05-40eb-ba07-c107234bcc3a",
   "metadata": {
    "tags": []
   },
   "outputs": [
    {
     "data": {
      "text/plain": [
       "5"
      ]
     },
     "execution_count": 16,
     "metadata": {},
     "output_type": "execute_result"
    }
   ],
   "source": [
    "len(my_courses)"
   ]
  },
  {
   "cell_type": "code",
   "execution_count": 17,
   "id": "8b17339c-e12a-4b7e-9162-53cc654f52ce",
   "metadata": {
    "tags": []
   },
   "outputs": [
    {
     "data": {
      "text/plain": [
       "0      Economics\n",
       "1      Geograghy\n",
       "2        Finance\n",
       "3    Mathematics\n",
       "4        History\n",
       "dtype: object"
      ]
     },
     "execution_count": 17,
     "metadata": {},
     "output_type": "execute_result"
    }
   ],
   "source": [
    "pd.Series(my_courses)"
   ]
  },
  {
   "cell_type": "code",
   "execution_count": 18,
   "id": "7e061209-f1c1-41cd-b14b-fc9fcc443658",
   "metadata": {
    "tags": []
   },
   "outputs": [
    {
     "data": {
      "text/plain": [
       "Monday         Economics\n",
       "Tuesday        Geograghy\n",
       "Wednesday        Finance\n",
       "Thursday     Mathematics\n",
       "Friday           History\n",
       "dtype: object"
      ]
     },
     "execution_count": 18,
     "metadata": {},
     "output_type": "execute_result"
    }
   ],
   "source": [
    "pd.Series(my_courses, index=my_days)"
   ]
  },
  {
   "cell_type": "code",
   "execution_count": 19,
   "id": "377c7e7b-0ac1-4e07-b7d2-e034ce0f8af1",
   "metadata": {
    "tags": []
   },
   "outputs": [],
   "source": [
    "my_days1=['Monday','Tuesday','Wednesday','Thursday','Friday']"
   ]
  },
  {
   "cell_type": "code",
   "execution_count": 20,
   "id": "819c873a-d158-4a0d-86a6-968a43e1fa38",
   "metadata": {
    "tags": []
   },
   "outputs": [
    {
     "data": {
      "text/plain": [
       "5"
      ]
     },
     "execution_count": 20,
     "metadata": {},
     "output_type": "execute_result"
    }
   ],
   "source": [
    "len(my_days1)"
   ]
  },
  {
   "cell_type": "code",
   "execution_count": 21,
   "id": "fc747b98-7ded-487f-83fa-3fcbc3b4219e",
   "metadata": {
    "tags": []
   },
   "outputs": [
    {
     "data": {
      "text/plain": [
       "5"
      ]
     },
     "execution_count": 21,
     "metadata": {},
     "output_type": "execute_result"
    }
   ],
   "source": [
    "len(my_courses)"
   ]
  },
  {
   "cell_type": "code",
   "execution_count": 22,
   "id": "489021c8-25b4-4f1f-ab90-99af19452382",
   "metadata": {
    "tags": []
   },
   "outputs": [
    {
     "data": {
      "text/plain": [
       "Monday         Economics\n",
       "Tuesday        Geograghy\n",
       "Wednesday        Finance\n",
       "Thursday     Mathematics\n",
       "Friday           History\n",
       "dtype: object"
      ]
     },
     "execution_count": 22,
     "metadata": {},
     "output_type": "execute_result"
    }
   ],
   "source": [
    "pd.Series(my_courses, index=my_days1)\n",
    "# gives error because the lenght of the values are not the same as legth of the index"
   ]
  },
  {
   "cell_type": "code",
   "execution_count": 23,
   "id": "6102163c-68dc-43fa-9f31-5de0d2152643",
   "metadata": {
    "tags": []
   },
   "outputs": [
    {
     "data": {
      "text/plain": [
       "Day1       Monday\n",
       "Day2      Tuesday\n",
       "Day3    Wednesday\n",
       "Day4     Thursday\n",
       "Day5       Friday\n",
       "dtype: object"
      ]
     },
     "execution_count": 23,
     "metadata": {},
     "output_type": "execute_result"
    }
   ],
   "source": [
    "days = pd.Series(['Monday','Tuesday','Wednesday','Thursday','Friday'],\n",
    "                 index =['Day1','Day2','Day3','Day4','Day5']) \n",
    "days"
   ]
  },
  {
   "cell_type": "code",
   "execution_count": 24,
   "id": "3f9d6f5b-52fa-4a78-a282-7e05ec0f6816",
   "metadata": {
    "tags": []
   },
   "outputs": [
    {
     "data": {
      "text/plain": [
       "Day1      Economics\n",
       "Day2      Geograghy\n",
       "Day3        Finance\n",
       "Day4    Mathematics\n",
       "Day5        History\n",
       "dtype: object"
      ]
     },
     "execution_count": 24,
     "metadata": {},
     "output_type": "execute_result"
    }
   ],
   "source": [
    "courses= pd.Series(['Economics','Geograghy','Finance','Mathematics','History'],\n",
    "                   index ='Day1 Day2 Day3 Day4 Day5'.split())\n",
    "# You can also use split function \n",
    "courses"
   ]
  },
  {
   "cell_type": "code",
   "execution_count": 25,
   "id": "12e8efc6-b67d-42b2-90cd-02eafff23422",
   "metadata": {
    "tags": []
   },
   "outputs": [
    {
     "data": {
      "text/plain": [
       "Day1        MondayEconomics\n",
       "Day2       TuesdayGeograghy\n",
       "Day3       WednesdayFinance\n",
       "Day4    ThursdayMathematics\n",
       "Day5          FridayHistory\n",
       "dtype: object"
      ]
     },
     "execution_count": 25,
     "metadata": {},
     "output_type": "execute_result"
    }
   ],
   "source": [
    "days + courses # addition(concatenation) based on index\n"
   ]
  },
  {
   "cell_type": "code",
   "execution_count": 26,
   "id": "2aefcb66-2bab-4baf-b6fb-2dbb4e5a0477",
   "metadata": {
    "tags": []
   },
   "outputs": [
    {
     "data": {
      "text/plain": [
       "Day1        Monday Economics\n",
       "Day2       Tuesday Geograghy\n",
       "Day3       Wednesday Finance\n",
       "Day4    Thursday Mathematics\n",
       "Day5          Friday History\n",
       "dtype: object"
      ]
     },
     "execution_count": 26,
     "metadata": {},
     "output_type": "execute_result"
    }
   ],
   "source": [
    "days + ' ' + courses # addition(concatenation) based on index\n"
   ]
  },
  {
   "cell_type": "code",
   "execution_count": 27,
   "id": "53946b92-2d08-4d4b-874a-23874de99666",
   "metadata": {
    "tags": []
   },
   "outputs": [
    {
     "data": {
      "text/plain": [
       "Day1       Monday\n",
       "Day2      Tuesday\n",
       "Day3    Wednesday\n",
       "Day4     Thursday\n",
       "Day5       Friday\n",
       "dtype: object"
      ]
     },
     "execution_count": 27,
     "metadata": {},
     "output_type": "execute_result"
    }
   ],
   "source": [
    "days"
   ]
  },
  {
   "cell_type": "markdown",
   "id": "741649f2-ced0-4fc1-bfca-bb917c24bf27",
   "metadata": {
    "tags": []
   },
   "source": [
    "courses"
   ]
  },
  {
   "cell_type": "markdown",
   "id": "3b62795f-e56e-43e5-9b2e-0c3a10c8de3f",
   "metadata": {},
   "source": [
    "#### NB: You can also use merge"
   ]
  },
  {
   "cell_type": "code",
   "execution_count": 29,
   "id": "d2481665-7d63-4857-80fa-db1a0cf665fd",
   "metadata": {
    "tags": []
   },
   "outputs": [
    {
     "data": {
      "text/plain": [
       "Day1      Economics\n",
       "Day2      Geograghy\n",
       "Day3        Finance\n",
       "Day4    Mathematics\n",
       "Day5        History\n",
       "dtype: object"
      ]
     },
     "execution_count": 29,
     "metadata": {},
     "output_type": "execute_result"
    }
   ],
   "source": [
    "courses"
   ]
  },
  {
   "cell_type": "code",
   "execution_count": 30,
   "id": "9202f106-13d2-4b34-bec2-4f4f3043cd16",
   "metadata": {
    "tags": []
   },
   "outputs": [
    {
     "data": {
      "text/plain": [
       "'History'"
      ]
     },
     "execution_count": 30,
     "metadata": {},
     "output_type": "execute_result"
    }
   ],
   "source": [
    "courses['Day5']"
   ]
  },
  {
   "cell_type": "code",
   "execution_count": 31,
   "id": "7c80505b-6114-43c8-ad42-37b5678b0418",
   "metadata": {
    "tags": []
   },
   "outputs": [
    {
     "data": {
      "text/plain": [
       "Day1       Monday\n",
       "Day2      Tuesday\n",
       "Day3    Wednesday\n",
       "Day4     Thursday\n",
       "Day5       Friday\n",
       "dtype: object"
      ]
     },
     "execution_count": 31,
     "metadata": {},
     "output_type": "execute_result"
    }
   ],
   "source": [
    "days"
   ]
  },
  {
   "cell_type": "code",
   "execution_count": 33,
   "id": "ceeab7d8-a7d6-489b-bd4e-a689bec2a3b8",
   "metadata": {
    "tags": []
   },
   "outputs": [
    {
     "data": {
      "text/plain": [
       "'Wednesday'"
      ]
     },
     "execution_count": 33,
     "metadata": {},
     "output_type": "execute_result"
    }
   ],
   "source": [
    "days['Day3']"
   ]
  },
  {
   "cell_type": "markdown",
   "id": "b18bbcc2-4ed4-4746-9ef5-83a13b46c151",
   "metadata": {
    "tags": []
   },
   "source": [
    "### loc & iloc\n",
    "\n",
    "**lo**c gets rows (or columns) with particular labels (name) from the index.\n",
    "\n",
    "**iloc** gets rows (or columns) at particular positions in the index and it takes integers."
   ]
  },
  {
   "cell_type": "code",
   "execution_count": 36,
   "id": "c5a2c62e-5ca6-41df-b873-f66826557de3",
   "metadata": {
    "tags": []
   },
   "outputs": [
    {
     "data": {
      "text/plain": [
       "Football      Spain\n",
       "NBA             USA\n",
       "Cricket       India\n",
       "Athelets    Jamaica\n",
       "dtype: object"
      ]
     },
     "execution_count": 36,
     "metadata": {},
     "output_type": "execute_result"
    }
   ],
   "source": [
    "# creating a dictionary\n",
    "\n",
    "sports = {'Football': 'Spain',\n",
    "          'NBA': 'USA',\n",
    "          'Cricket': 'India',\n",
    "          'Athelets': 'Jamaica'}\n",
    "\n",
    "\n",
    "sports_series = pd.Series(sports)\n",
    "sports_series"
   ]
  },
  {
   "cell_type": "code",
   "execution_count": 37,
   "id": "6209edb2-9d37-4323-a0c9-b3739dca8125",
   "metadata": {
    "tags": []
   },
   "outputs": [
    {
     "data": {
      "text/plain": [
       "'India'"
      ]
     },
     "execution_count": 37,
     "metadata": {},
     "output_type": "execute_result"
    }
   ],
   "source": [
    "sports_series.loc['Cricket']"
   ]
  },
  {
   "cell_type": "code",
   "execution_count": 38,
   "id": "8dc186ac-c70c-447d-af13-4fa5526263f3",
   "metadata": {
    "tags": []
   },
   "outputs": [
    {
     "data": {
      "text/plain": [
       "'India'"
      ]
     },
     "execution_count": 38,
     "metadata": {},
     "output_type": "execute_result"
    }
   ],
   "source": [
    "sports_series.iloc[2]"
   ]
  },
  {
   "cell_type": "code",
   "execution_count": 39,
   "id": "1c0511d5-2195-4f39-b748-e334d6dc0c77",
   "metadata": {
    "tags": []
   },
   "outputs": [
    {
     "data": {
      "text/plain": [
       "'Jamaica'"
      ]
     },
     "execution_count": 39,
     "metadata": {},
     "output_type": "execute_result"
    }
   ],
   "source": [
    "sports_series[3]"
   ]
  },
  {
   "cell_type": "markdown",
   "id": "5244c444-a941-4715-ba1c-792dc791697e",
   "metadata": {},
   "source": [
    "# DataFrames"
   ]
  },
  {
   "attachments": {
    "e7c311ac-02f2-4c5f-8ecd-2f6e02108f63.jpg": {
     "image/jpeg": "[encoded data removed]"
    }
   },
   "cell_type": "markdown",
   "id": "561e369c-cbae-4f0c-8e43-f0b862606d49",
   "metadata": {},
   "source": [
    "Two-dimensional, size-mutable, potentially heterogeneous tabular data.\n",
    "\n",
    "Data structure also contains labeled axes (rows and columns). Arithmetic operations align on both row and column labels. Can be thought of as a dict-like container for Series objects. The primary pandas data structure.\n",
    "\n",
    "Read Pandas DataFrame documentation: https://bit.ly/2Ufe2BJ\n",
    "\n",
    "![download.jpg](attachment:e7c311ac-02f2-4c5f-8ecd-2f6e02108f63.jpg)"
   ]
  },
  {
   "cell_type": "code",
   "execution_count": 40,
   "id": "a9c3db0b-485c-4690-ae99-defc9fd97e6b",
   "metadata": {
    "tags": []
   },
   "outputs": [
    {
     "data": {
      "text/plain": [
       "array([[ 0.05320698,  0.0952199 ,  0.15771375, -1.4089969 , -0.221591  ],\n",
       "       [ 0.50948987,  2.53975395, -1.47987841,  0.65349619, -0.58946446],\n",
       "       [ 0.9310261 , -1.4694163 ,  0.75604795, -0.38078823,  0.33287049],\n",
       "       [ 0.46791381,  0.1964594 ,  0.95223106,  0.41689602, -0.51014984],\n",
       "       [-1.45550141,  0.49763331,  1.57893289,  1.28329258, -0.12851765],\n",
       "       [ 0.49121612,  1.50576232,  0.21941392, -0.53971796,  0.12593189],\n",
       "       [-0.17081161, -0.95159369, -0.30608548, -0.32200722, -0.20844686],\n",
       "       [-0.51095765,  0.45270353, -0.91311695, -0.29432077, -1.00018244],\n",
       "       [-0.10101773,  0.74749863,  0.06732175, -0.32408945,  0.86734336],\n",
       "       [-1.37794008,  0.74155046, -1.4035594 , -1.27500051, -0.30358625]])"
      ]
     },
     "execution_count": 40,
     "metadata": {},
     "output_type": "execute_result"
    }
   ],
   "source": [
    "np.random.randn(10,5) # 10x5"
   ]
  },
  {
   "cell_type": "code",
   "execution_count": null,
   "id": "ee2a7eae-cd31-494c-8bf7-4c4f7df16232",
   "metadata": {},
   "outputs": [],
   "source": []
  }
 ],
 "metadata": {
  "kernelspec": {
   "display_name": "Python 3 (ipykernel)",
   "language": "python",
   "name": "python3"
  },
  "language_info": {
   "codemirror_mode": {
    "name": "ipython",
    "version": 3
   },
   "file_extension": ".py",
   "mimetype": "text/x-python",
   "name": "python",
   "nbconvert_exporter": "python",
   "pygments_lexer": "ipython3",
   "version": "3.10.9"
  }
 },
 "nbformat": 4,
 "nbformat_minor": 5
}
